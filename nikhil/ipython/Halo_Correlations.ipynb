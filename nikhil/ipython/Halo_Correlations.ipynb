{
 "cells": [
  {
   "cell_type": "code",
   "execution_count": 8,
   "metadata": {
    "collapsed": true
   },
   "outputs": [],
   "source": [
    "import os\n",
    "import glob\n",
    "import datetime\n",
    "import sys\n",
    "import re\n",
    "import traceback\n",
    "\n",
    "import pandas as pd"
   ]
  },
  {
   "cell_type": "code",
   "execution_count": 2,
   "metadata": {
    "collapsed": false
   },
   "outputs": [
    {
     "name": "stdout",
     "output_type": "stream",
     "text": [
      "hlist_0.91030_preprocessed.list\n",
      "hlist_0.88930_preprocessed.list\n",
      "hlist_0.53230_preprocessed.list\n",
      "hlist_0.46230_preprocessed.list\n",
      "hlist_0.46830_preprocessed.list\n",
      "hlist_0.85330_preprocessed.list\n",
      "hlist_0.50430_preprocessed.list\n",
      "hlist_0.95830_preprocessed.list\n",
      "hlist_0.32430_preprocessed.list\n",
      "hlist_0.84130_preprocessed.list\n",
      "hlist_0.86830_preprocessed.list\n",
      "hlist_0.25830_preprocessed.list\n",
      "hlist_0.21630_preprocessed.list\n",
      "hlist_0.13830_preprocessed.list\n",
      "hlist_0.18630_preprocessed.list\n",
      "hlist_0.88330_preprocessed.list\n",
      "hlist_0.70630_preprocessed.list\n",
      "hlist_0.43230_preprocessed.list\n",
      "sqw\n",
      "hlist_0.52830_preprocessed.list\n",
      "hlist_0.83830_preprocessed.list\n",
      "hlist_0.12030_preprocessed.list\n",
      "hlist_0.76030_preprocessed.list\n",
      "hlist_0.23430_preprocessed.list\n",
      "hlist_0.57430_preprocessed.list\n",
      "hlist_0.81730_preprocessed.list\n",
      "hlist_0.91930_preprocessed.list\n",
      "hlist_0.96430_preprocessed.list\n",
      "hlist_0.28230_preprocessed.list\n",
      "hlist_0.74230_preprocessed.list\n",
      "hlist_0.94630_preprocessed.list\n",
      "hlist_0.20230_preprocessed.list\n",
      "hlist_0.87430_preprocessed.list\n",
      "hlist_0.49830_preprocessed.list\n",
      "hlist_0.94330_preprocessed.list\n",
      "hlist_0.41430_preprocessed.list\n",
      "hlist_0.77230_preprocessed.list\n",
      "hlist_0.45630_preprocessed.list\n",
      "hlist_0.07830_preprocessed.list\n",
      "hlist_0.79630_preprocessed.list\n",
      "hlist_0.21030_preprocessed.list\n",
      "hlist_0.86530_preprocessed.list\n",
      "hlist_0.29430_preprocessed.list\n",
      "hlist_0.99130_preprocessed.list\n",
      "hlist_0.87730_preprocessed.list\n",
      "hlist_0.55030_preprocessed.list\n",
      "hlist_0.82930_preprocessed.list\n",
      "hlist_0.51030_preprocessed.list\n",
      "hlist_0.97930_preprocessed.list\n",
      "hlist_0.98230_preprocessed.list\n",
      "hlist_0.06630_preprocessed.list\n",
      "hlist_0.96730_preprocessed.list\n",
      "hlist_0.34830_preprocessed.list\n",
      "hlist_0.92830_preprocessed.list\n",
      "hlist_0.83530_preprocessed.list\n",
      "hlist_0.69430_preprocessed.list\n",
      "hlist_0.27030_preprocessed.list\n",
      "hlist_0.88630_preprocessed.list\n",
      "hlist_0.61030_preprocessed.list\n",
      "hlist_0.30630_preprocessed.list\n",
      "hlist_0.83230_preprocessed.list\n",
      "hlist_0.14430_preprocessed.list\n",
      "hlist_0.84430_preprocessed.list\n",
      "hlist_0.81430_preprocessed.list\n",
      "hlist_0.51630_preprocessed.list\n",
      "hlist_0.81130_preprocessed.list\n",
      "hlist_0.65830_preprocessed.list\n",
      "hlist_0.89230_preprocessed.list\n",
      "hlist_0.92230_preprocessed.list\n",
      "hlist_0.67630_preprocessed.list\n",
      "hlist_0.82630_preprocessed.list\n",
      "hlist_0.44430_preprocessed.list\n",
      "hlist_0.66430_preprocessed.list\n",
      "hlist_0.62830_preprocessed.list\n",
      "hlist_0.38430_preprocessed.list\n",
      "hlist_0.97030_preprocessed.list\n",
      "hlist_0.95230_preprocessed.list\n",
      "hlist_0.33030_preprocessed.list\n",
      "hlist_0.39030_preprocessed.list\n",
      "hlist_0.15030_preprocessed.list\n",
      "hlist_0.45030_preprocessed.list\n",
      "hlist_0.09630_preprocessed.list\n",
      "hlist_0.94930_preprocessed.list\n",
      "hlist_0.96130_preprocessed.list\n",
      "hlist_0.43830_preprocessed.list\n",
      "get_scale_factors.py\n",
      "hlist_0.87130_preprocessed.list\n",
      "hlist_0.98830_preprocessed.list\n",
      "hlist_0.82330_preprocessed.list\n",
      "hlist_0.39630_preprocessed.list\n",
      "hlist_0.92530_preprocessed.list\n",
      "hlist_0.80830_preprocessed.list\n",
      "hlist_0.75430_preprocessed.list\n",
      "hlist_0.67030_preprocessed.list\n",
      "hlist_0.31230_preprocessed.list\n",
      "hlist_0.97330_preprocessed.list\n",
      "hlist_0.59230_preprocessed.list\n",
      "hlist_0.80230_preprocessed.list\n",
      "hlist_0.59830_preprocessed.list\n",
      "hlist_0.64030_preprocessed.list\n",
      "hlist_0.70030_preprocessed.list\n",
      "hlist_0.22230_preprocessed.list\n",
      "hlist_0.88030_preprocessed.list\n",
      "hlist_0.18030_preprocessed.list\n",
      "hlist_0.71830_preprocessed.list\n",
      "hlist_0.99430_preprocessed.list\n",
      "hlist_0.65230_preprocessed.list\n",
      "hlist_0.16830_preprocessed.list\n",
      "hlist_0.22830_preprocessed.list\n",
      "hlist_0.56230_preprocessed.list\n",
      "hlist_0.72430_preprocessed.list\n",
      "hlist_0.37230_preprocessed.list\n",
      "hlist_0.55630_preprocessed.list\n",
      "hlist_0.27630_preprocessed.list\n",
      "hlist_0.26430_preprocessed.list\n",
      "hlist_0.74830_preprocessed.list\n",
      "hlist_0.71230_preprocessed.list\n",
      "hlist_0.64630_preprocessed.list\n",
      "hlist_1.00030_preprocessed.list\n",
      "hlist_0.91630_preprocessed.list\n",
      "hlist_0.35430_preprocessed.list\n",
      "hlist_0.68830_preprocessed.list\n",
      "hlist_0.52230_preprocessed.list\n",
      "hlist_0.31830_preprocessed.list\n",
      "hlist_0.89830_preprocessed.list\n",
      "hlist_0.24630_preprocessed.list\n",
      "hlist_0.40230_preprocessed.list\n",
      "hlist_0.85930_preprocessed.list\n",
      "hlist_0.40830_preprocessed.list\n",
      "hlist_0.93730_preprocessed.list\n",
      "hlist_0.85630_preprocessed.list\n",
      "hlist_0.54430_preprocessed.list\n",
      "hlist_0.61630_preprocessed.list\n",
      "hlist_0.79030_preprocessed.list\n",
      "hlist_0.93430_preprocessed.list\n",
      "hlist_0.37830_preprocessed.list\n",
      "hlist_0.58030_preprocessed.list\n",
      "hlist_0.33630_preprocessed.list\n",
      "hlist_0.13230_preprocessed.list\n",
      "hlist_0.68230_preprocessed.list\n",
      "hlist_0.85030_preprocessed.list\n",
      "hlist_0.19230_preprocessed.list\n",
      "hlist_0.99730_preprocessed.list\n",
      "hlist_0.78430_preprocessed.list\n",
      "hlist_0.97630_preprocessed.list\n",
      "hlist_0.36030_preprocessed.list\n",
      "hlist_0.93130_preprocessed.list\n",
      "hlist_0.34230_preprocessed.list\n",
      "hlist_0.36630_preprocessed.list\n",
      "hlist_0.58630_preprocessed.list\n",
      "hlist_0.20430_preprocessed.list\n",
      "hlist_0.53830_preprocessed.list\n",
      "hlist_0.16230_preprocessed.list\n",
      "hlist_0.25230_preprocessed.list\n",
      "hlist_0.77830_preprocessed.list\n",
      "hlist_0.17430_preprocessed.list\n",
      "hlist_0.63430_preprocessed.list\n",
      "hlist_0.60430_preprocessed.list\n",
      "hlist_0.91330_preprocessed.list\n",
      "hlist_0.76630_preprocessed.list\n",
      "hlist_0.10830_preprocessed.list\n",
      "hlist_0.62230_preprocessed.list\n",
      "hlist_0.73030_preprocessed.list\n",
      "hlist_0.90130_preprocessed.list\n",
      "hlist_0.86230_preprocessed.list\n",
      "hlist_0.42630_preprocessed.list\n",
      "hlist_0.73630_preprocessed.list\n",
      "hlist_0.90430_preprocessed.list\n",
      "hlist_0.47430_preprocessed.list\n",
      "hlist_0.98530_preprocessed.list\n",
      "hlist_0.82030_preprocessed.list\n",
      "hlist_0.90730_preprocessed.list\n",
      "hlist_0.42030_preprocessed.list\n",
      "hlist_0.15630_preprocessed.list\n",
      "hlist_0.19830_preprocessed.list\n",
      "hlist_0.11430_preprocessed.list\n",
      "hlist_0.56830_preprocessed.list\n",
      "hlist_0.10230_preprocessed.list\n",
      "hlist_0.48030_preprocessed.list\n",
      "hlist_0.89530_preprocessed.list\n",
      "hlist_0.84730_preprocessed.list\n",
      "hlist_0.28830_preprocessed.list\n",
      "hlist_0.48630_preprocessed.list\n"
     ]
    }
   ],
   "source": [
    "data_dir = '/opt/data/bolshoi/hlists/hlists/preprocessed_hlists'\n",
    "for filename in os.listdir (data_dir):\n",
    "    print filename\n",
    "\n"
   ]
  },
  {
   "cell_type": "code",
   "execution_count": 5,
   "metadata": {
    "collapsed": false
   },
   "outputs": [
    {
     "name": "stdout",
     "output_type": "stream",
     "text": [
      "[0.0663, 0.0783, 0.0963, 0.1023, 0.1083, 0.1143, 0.1203, 0.1323, 0.1383, 0.1443, 0.1503, 0.1563, 0.1623, 0.1683, 0.1743, 0.1803, 0.1863, 0.1923, 0.1983, 0.2023, 0.2043, 0.2103, 0.2163, 0.2223, 0.2283, 0.2343, 0.2463, 0.2523, 0.2583, 0.2643, 0.2703, 0.2763, 0.2823, 0.2883, 0.2943, 0.3063, 0.3123, 0.3183, 0.3243, 0.3303, 0.3363, 0.3423, 0.3483, 0.3543, 0.3603, 0.3663, 0.3723, 0.3783, 0.3843, 0.3903, 0.3963, 0.4023, 0.4083, 0.4143, 0.4203, 0.4263, 0.4323, 0.4383, 0.4443, 0.4503, 0.4563, 0.4623, 0.4683, 0.4743, 0.4803, 0.4863, 0.4983, 0.5043, 0.5103, 0.5163, 0.5223, 0.5283, 0.5323, 0.5383, 0.5443, 0.5503, 0.5563, 0.5623, 0.5683, 0.5743, 0.5803, 0.5863, 0.5923, 0.5983, 0.6043, 0.6103, 0.6163, 0.6223, 0.6283, 0.6343, 0.6403, 0.6463, 0.6523, 0.6583, 0.6643, 0.6703, 0.6763, 0.6823, 0.6883, 0.6943, 0.7003, 0.7063, 0.7123, 0.7183, 0.7243, 0.7303, 0.7363, 0.7423, 0.7483, 0.7543, 0.7603, 0.7663, 0.7723, 0.7783, 0.7843, 0.7903, 0.7963, 0.8023, 0.8083, 0.8113, 0.8143, 0.8173, 0.8203, 0.8233, 0.8263, 0.8293, 0.8323, 0.8353, 0.8383, 0.8413, 0.8443, 0.8473, 0.8503, 0.8533, 0.8563, 0.8593, 0.8623, 0.8653, 0.8683, 0.8713, 0.8743, 0.8773, 0.8803, 0.8833, 0.8863, 0.8893, 0.8923, 0.8953, 0.8983, 0.9013, 0.9043, 0.9073, 0.9103, 0.9133, 0.9163, 0.9193, 0.9223, 0.9253, 0.9283, 0.9313, 0.9343, 0.9373, 0.9433, 0.9463, 0.9493, 0.9523, 0.9583, 0.9613, 0.9643, 0.9673, 0.9703, 0.9733, 0.9763, 0.9793, 0.9823, 0.9853, 0.9883, 0.9913, 0.9943, 0.9973, 1.0003]\n"
     ]
    }
   ],
   "source": [
    "file_paths = sorted(glob.glob(data_dir + '/hlist*'))\n",
    "\n",
    "#Regex to extract the decimal part from the file path\n",
    "scales = [float(re.findall(\"\\d+.\\d+\", file_path)[0]) for file_path in file_paths]\n",
    "print scales\n"
   ]
  },
  {
   "cell_type": "code",
   "execution_count": 13,
   "metadata": {
    "collapsed": false
   },
   "outputs": [],
   "source": [
    "def save_corr(index):\n",
    "    print \"File:\"+file_paths[index]\n",
    "    data = pd.read_csv(file_paths[index], sep=\" \", error_bad_lines=False)\n",
    "    # Droping the last column created due to the empty space\n",
    "    data = data.drop(data.columns[62], axis=1)\n",
    "\n",
    "    corr_data = data.corr()\n",
    "    corr_data.to_pickle('/root/notebooks/data/'+str(index))\n",
    "#     print \"Done..\"+str(index)\n"
   ]
  },
  {
   "cell_type": "code",
   "execution_count": null,
   "metadata": {
    "collapsed": false,
    "scrolled": true
   },
   "outputs": [],
   "source": [
    "# for index  in range(56,58):\n",
    "for index  in range(58,len(file_paths)):\n",
    "    try:\n",
    "        print \"###########################################################\"\n",
    "        print \"Starting \"+str(index)+\" at \" + str(datetime.datetime.now())\n",
    "        save_corr(index)\n",
    "        print \"Done     \"+str(index)+\" at \" + str(datetime.datetime.now())\n",
    "    except:\n",
    "        print \"Failed   \"+str(index)+\" at \" + str(datetime.datetime.now())\n",
    "        traceback.print_exc(file=sys.stdout)\n",
    "        print sys.exc_info()[0]\n",
    "        \n",
    "  \n",
    "# print "
   ]
  },
  {
   "cell_type": "code",
   "execution_count": 74,
   "metadata": {
    "collapsed": false
   },
   "outputs": [
    {
     "name": "stdout",
     "output_type": "stream",
     "text": [
      "aa2015-04-25 12:34:31.158381\n"
     ]
    }
   ],
   "source": [
    "print \"aa\"+str(datetime.datetime.now())"
   ]
  }
 ],
 "metadata": {
  "kernelspec": {
   "display_name": "Python 2",
   "language": "python",
   "name": "python2"
  },
  "language_info": {
   "codemirror_mode": {
    "name": "ipython",
    "version": 2
   },
   "file_extension": ".py",
   "mimetype": "text/x-python",
   "name": "python",
   "nbconvert_exporter": "python",
   "pygments_lexer": "ipython2",
   "version": "2.7.9"
  }
 },
 "nbformat": 4,
 "nbformat_minor": 0
}
